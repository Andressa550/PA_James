{
 "cells": [
  {
   "cell_type": "markdown",
   "id": "3f57a572",
   "metadata": {
    "heading_collapsed": true
   },
   "source": [
    "# AB Test Course - PA James "
   ]
  },
  {
   "cell_type": "markdown",
   "id": "7ec818d5",
   "metadata": {
    "heading_collapsed": true,
    "hidden": true
   },
   "source": [
    "## 0.1 Imports"
   ]
  },
  {
   "cell_type": "code",
   "execution_count": 1,
   "id": "c3af0b90",
   "metadata": {
    "ExecuteTime": {
     "end_time": "2022-07-15T21:00:30.430115Z",
     "start_time": "2022-07-15T21:00:29.691886Z"
    },
    "hidden": true
   },
   "outputs": [],
   "source": [
    "import pandas as pd\n",
    "import math\n",
    "from statsmodels.stats import api as sms\n",
    "import numpy as np"
   ]
  },
  {
   "cell_type": "markdown",
   "id": "c90f0e6c",
   "metadata": {
    "heading_collapsed": true
   },
   "source": [
    "# 1.0 Load data"
   ]
  },
  {
   "cell_type": "code",
   "execution_count": 10,
   "id": "3be88c6c",
   "metadata": {
    "ExecuteTime": {
     "end_time": "2022-07-15T21:23:10.059265Z",
     "start_time": "2022-07-15T21:23:09.804827Z"
    },
    "hidden": true
   },
   "outputs": [],
   "source": [
    "df_raw = pd.read_csv('../datasets/ab_data.csv')"
   ]
  },
  {
   "cell_type": "code",
   "execution_count": 11,
   "id": "f6153fa2",
   "metadata": {
    "ExecuteTime": {
     "end_time": "2022-07-15T21:23:10.475086Z",
     "start_time": "2022-07-15T21:23:10.467207Z"
    },
    "hidden": true
   },
   "outputs": [
    {
     "data": {
      "text/html": [
       "<div>\n",
       "<style scoped>\n",
       "    .dataframe tbody tr th:only-of-type {\n",
       "        vertical-align: middle;\n",
       "    }\n",
       "\n",
       "    .dataframe tbody tr th {\n",
       "        vertical-align: top;\n",
       "    }\n",
       "\n",
       "    .dataframe thead th {\n",
       "        text-align: right;\n",
       "    }\n",
       "</style>\n",
       "<table border=\"1\" class=\"dataframe\">\n",
       "  <thead>\n",
       "    <tr style=\"text-align: right;\">\n",
       "      <th></th>\n",
       "      <th>user_id</th>\n",
       "      <th>timestamp</th>\n",
       "      <th>group</th>\n",
       "      <th>landing_page</th>\n",
       "      <th>converted</th>\n",
       "    </tr>\n",
       "  </thead>\n",
       "  <tbody>\n",
       "    <tr>\n",
       "      <th>0</th>\n",
       "      <td>851104</td>\n",
       "      <td>2017-01-21 22:11:48.556739</td>\n",
       "      <td>control</td>\n",
       "      <td>old_page</td>\n",
       "      <td>0</td>\n",
       "    </tr>\n",
       "    <tr>\n",
       "      <th>1</th>\n",
       "      <td>804228</td>\n",
       "      <td>2017-01-12 08:01:45.159739</td>\n",
       "      <td>control</td>\n",
       "      <td>old_page</td>\n",
       "      <td>0</td>\n",
       "    </tr>\n",
       "    <tr>\n",
       "      <th>2</th>\n",
       "      <td>661590</td>\n",
       "      <td>2017-01-11 16:55:06.154213</td>\n",
       "      <td>treatment</td>\n",
       "      <td>new_page</td>\n",
       "      <td>0</td>\n",
       "    </tr>\n",
       "    <tr>\n",
       "      <th>3</th>\n",
       "      <td>853541</td>\n",
       "      <td>2017-01-08 18:28:03.143765</td>\n",
       "      <td>treatment</td>\n",
       "      <td>new_page</td>\n",
       "      <td>0</td>\n",
       "    </tr>\n",
       "    <tr>\n",
       "      <th>4</th>\n",
       "      <td>864975</td>\n",
       "      <td>2017-01-21 01:52:26.210827</td>\n",
       "      <td>control</td>\n",
       "      <td>old_page</td>\n",
       "      <td>1</td>\n",
       "    </tr>\n",
       "  </tbody>\n",
       "</table>\n",
       "</div>"
      ],
      "text/plain": [
       "   user_id                   timestamp      group landing_page  converted\n",
       "0   851104  2017-01-21 22:11:48.556739    control     old_page          0\n",
       "1   804228  2017-01-12 08:01:45.159739    control     old_page          0\n",
       "2   661590  2017-01-11 16:55:06.154213  treatment     new_page          0\n",
       "3   853541  2017-01-08 18:28:03.143765  treatment     new_page          0\n",
       "4   864975  2017-01-21 01:52:26.210827    control     old_page          1"
      ]
     },
     "execution_count": 11,
     "metadata": {},
     "output_type": "execute_result"
    }
   ],
   "source": [
    "df_raw.head()"
   ]
  },
  {
   "cell_type": "markdown",
   "id": "a6b15851",
   "metadata": {},
   "source": [
    "# 2.0 Design de Experimentos"
   ]
  },
  {
   "cell_type": "markdown",
   "id": "1fc7dba6",
   "metadata": {},
   "source": [
    "## 2.1 Formulação da Hipóteses"
   ]
  },
  {
   "cell_type": "markdown",
   "id": "1185b29d",
   "metadata": {},
   "source": [
    "## 2.2 Parâmetros do Experimento"
   ]
  },
  {
   "cell_type": "code",
   "execution_count": 32,
   "id": "17d16cf1",
   "metadata": {
    "ExecuteTime": {
     "end_time": "2022-07-15T21:48:18.555104Z",
     "start_time": "2022-07-15T21:48:18.549055Z"
    }
   },
   "outputs": [],
   "source": [
    "#Nivel de confiança\n",
    "confidence_level = 0.95\n",
    "\n",
    "#Nivel de significancia \n",
    "significance_level = 0.05\n",
    "\n",
    "#Conversoes da pagina atual e da nova pagina(esperado pelo time de negocio)\n",
    "p1=0.13\n",
    "p2=0.15\n",
    "\n",
    "# tamanho do efeito\n",
    "effect_size = sms.proportion_effectsize(p1,p2)\n",
    "\n",
    "#Power estatistico (erro de oportunidade)\n",
    "power = 0.8\n"
   ]
  },
  {
   "cell_type": "code",
   "execution_count": 33,
   "id": "17cca153",
   "metadata": {
    "ExecuteTime": {
     "end_time": "2022-07-15T21:48:19.836717Z",
     "start_time": "2022-07-15T21:48:19.818212Z"
    }
   },
   "outputs": [
    {
     "data": {
      "text/plain": [
       "4720"
      ]
     },
     "execution_count": 33,
     "metadata": {},
     "output_type": "execute_result"
    }
   ],
   "source": [
    "#sample size\n",
    "sample_n = sms.NormalIndPower().solve_power(\n",
    "    effect_size, \n",
    "    power=power,\n",
    "    alpha=significance_level)\n",
    "\n",
    "sample_n = math.ceil(sample_n)\n",
    "sample_n"
   ]
  },
  {
   "cell_type": "code",
   "execution_count": 14,
   "id": "cb72fc31",
   "metadata": {
    "ExecuteTime": {
     "end_time": "2022-07-15T21:23:12.748686Z",
     "start_time": "2022-07-15T21:23:12.739618Z"
    }
   },
   "outputs": [
    {
     "name": "stdout",
     "output_type": "stream",
     "text": [
      "O tamanho total da amostra 9440\n",
      "O tamanho da amostra do grupo controle é de 4720\n",
      "O tamanho da amostra do grupo de tratamento é de 4720\n"
     ]
    }
   ],
   "source": [
    "print('O tamanho total da amostra {}'.format(2*sample_n))\n",
    "print('O tamanho da amostra do grupo controle é de {}'.format(sample_n))\n",
    "print('O tamanho da amostra do grupo de tratamento é de {}'.format(sample_n))\n"
   ]
  },
  {
   "cell_type": "code",
   "execution_count": 15,
   "id": "37dd8c2d",
   "metadata": {
    "ExecuteTime": {
     "end_time": "2022-07-15T21:23:13.139465Z",
     "start_time": "2022-07-15T21:23:13.128995Z"
    }
   },
   "outputs": [
    {
     "name": "stdout",
     "output_type": "stream",
     "text": [
      "o numero de email para enviar:47200\n",
      "o numero total da base de emial para enviar:94400\n"
     ]
    }
   ],
   "source": [
    "conversion_rate = 0.10 #quantas vão abrir/responder\n",
    "x= sample_n / conversion_rate\n",
    "print('o numero de email para enviar:{}'.format(int(x)))\n",
    "print('o numero total da base de emial para enviar:{}'.format(2*int(x)))\n"
   ]
  },
  {
   "cell_type": "code",
   "execution_count": 16,
   "id": "3679fd40",
   "metadata": {
    "ExecuteTime": {
     "end_time": "2022-07-15T21:23:13.601462Z",
     "start_time": "2022-07-15T21:23:13.594893Z"
    }
   },
   "outputs": [],
   "source": [
    "#Total de pessoas para o estudo com esse parametos são muito alto.\n",
    "#Podemos aumentar as porcentagem de converções o que não seria ideal, \n",
    "#pois uma diferença da p de tratmento deve ser o menor possivel, \n",
    "#assim não tendo diferença na aleatoriedade.\n"
   ]
  },
  {
   "cell_type": "markdown",
   "id": "e8dc3886",
   "metadata": {},
   "source": [
    "# 3.0 Analises descritivas dos dados"
   ]
  },
  {
   "cell_type": "code",
   "execution_count": 19,
   "id": "fabcf7d8",
   "metadata": {
    "ExecuteTime": {
     "end_time": "2022-07-15T21:23:48.532017Z",
     "start_time": "2022-07-15T21:23:48.523019Z"
    }
   },
   "outputs": [
    {
     "name": "stdout",
     "output_type": "stream",
     "text": [
      "Number of rows: 294478\n",
      "Number of cols: 5\n"
     ]
    }
   ],
   "source": [
    "print('Number of rows: {}'.format(df_raw.shape[0]))\n",
    "print('Number of cols: {}'.format(df_raw.shape[1]))"
   ]
  },
  {
   "cell_type": "markdown",
   "id": "d9fcde93",
   "metadata": {},
   "source": [
    "## 3.1 Verificação de dados faltantes"
   ]
  },
  {
   "cell_type": "code",
   "execution_count": 20,
   "id": "b5627318",
   "metadata": {
    "ExecuteTime": {
     "end_time": "2022-07-15T21:25:04.076856Z",
     "start_time": "2022-07-15T21:25:03.976228Z"
    }
   },
   "outputs": [
    {
     "data": {
      "text/plain": [
       "user_id         0\n",
       "timestamp       0\n",
       "group           0\n",
       "landing_page    0\n",
       "converted       0\n",
       "dtype: int64"
      ]
     },
     "execution_count": 20,
     "metadata": {},
     "output_type": "execute_result"
    }
   ],
   "source": [
    "df_raw.isna().sum()"
   ]
  },
  {
   "cell_type": "markdown",
   "id": "8a61c482",
   "metadata": {},
   "source": [
    "## 3.2 Conferir as \"flags\" do teste A"
   ]
  },
  {
   "cell_type": "code",
   "execution_count": 21,
   "id": "a5b745e2",
   "metadata": {
    "ExecuteTime": {
     "end_time": "2022-07-15T21:30:07.278631Z",
     "start_time": "2022-07-15T21:30:07.194896Z"
    }
   },
   "outputs": [
    {
     "data": {
      "text/html": [
       "<div>\n",
       "<style scoped>\n",
       "    .dataframe tbody tr th:only-of-type {\n",
       "        vertical-align: middle;\n",
       "    }\n",
       "\n",
       "    .dataframe tbody tr th {\n",
       "        vertical-align: top;\n",
       "    }\n",
       "\n",
       "    .dataframe thead th {\n",
       "        text-align: right;\n",
       "    }\n",
       "</style>\n",
       "<table border=\"1\" class=\"dataframe\">\n",
       "  <thead>\n",
       "    <tr style=\"text-align: right;\">\n",
       "      <th></th>\n",
       "      <th>group</th>\n",
       "      <th>landing_page</th>\n",
       "      <th>user_id</th>\n",
       "    </tr>\n",
       "  </thead>\n",
       "  <tbody>\n",
       "    <tr>\n",
       "      <th>0</th>\n",
       "      <td>control</td>\n",
       "      <td>new_page</td>\n",
       "      <td>1928</td>\n",
       "    </tr>\n",
       "    <tr>\n",
       "      <th>1</th>\n",
       "      <td>control</td>\n",
       "      <td>old_page</td>\n",
       "      <td>145274</td>\n",
       "    </tr>\n",
       "    <tr>\n",
       "      <th>2</th>\n",
       "      <td>treatment</td>\n",
       "      <td>new_page</td>\n",
       "      <td>145311</td>\n",
       "    </tr>\n",
       "    <tr>\n",
       "      <th>3</th>\n",
       "      <td>treatment</td>\n",
       "      <td>old_page</td>\n",
       "      <td>1965</td>\n",
       "    </tr>\n",
       "  </tbody>\n",
       "</table>\n",
       "</div>"
      ],
      "text/plain": [
       "       group landing_page  user_id\n",
       "0    control     new_page     1928\n",
       "1    control     old_page   145274\n",
       "2  treatment     new_page   145311\n",
       "3  treatment     old_page     1965"
      ]
     },
     "execution_count": 21,
     "metadata": {},
     "output_type": "execute_result"
    }
   ],
   "source": [
    "df_raw[['user_id','group','landing_page']].groupby(['group','landing_page']).count().reset_index()"
   ]
  },
  {
   "cell_type": "code",
   "execution_count": 35,
   "id": "3bd5fac9",
   "metadata": {
    "ExecuteTime": {
     "end_time": "2022-07-15T21:50:26.750427Z",
     "start_time": "2022-07-15T21:50:26.613830Z"
    }
   },
   "outputs": [
    {
     "data": {
      "text/plain": [
       "(286690, 5)"
      ]
     },
     "execution_count": 35,
     "metadata": {},
     "output_type": "execute_result"
    }
   ],
   "source": [
    "df_raw_delete = df_raw[['user_id','group']].groupby(['user_id']).count().reset_index().query('group > 1 ')['user_id']\n",
    "df1 = df_raw[~df_raw['user_id'].isin(df_raw_delete)]\n",
    "df1.shape"
   ]
  },
  {
   "cell_type": "code",
   "execution_count": 38,
   "id": "ea4f84ea",
   "metadata": {
    "ExecuteTime": {
     "end_time": "2022-07-15T21:50:31.172394Z",
     "start_time": "2022-07-15T21:50:31.123371Z"
    }
   },
   "outputs": [
    {
     "data": {
      "text/html": [
       "<div>\n",
       "<style scoped>\n",
       "    .dataframe tbody tr th:only-of-type {\n",
       "        vertical-align: middle;\n",
       "    }\n",
       "\n",
       "    .dataframe tbody tr th {\n",
       "        vertical-align: top;\n",
       "    }\n",
       "\n",
       "    .dataframe thead th {\n",
       "        text-align: right;\n",
       "    }\n",
       "</style>\n",
       "<table border=\"1\" class=\"dataframe\">\n",
       "  <thead>\n",
       "    <tr style=\"text-align: right;\">\n",
       "      <th></th>\n",
       "      <th>group</th>\n",
       "      <th>landing_page</th>\n",
       "      <th>user_id</th>\n",
       "    </tr>\n",
       "  </thead>\n",
       "  <tbody>\n",
       "    <tr>\n",
       "      <th>0</th>\n",
       "      <td>control</td>\n",
       "      <td>old_page</td>\n",
       "      <td>143293</td>\n",
       "    </tr>\n",
       "    <tr>\n",
       "      <th>1</th>\n",
       "      <td>treatment</td>\n",
       "      <td>new_page</td>\n",
       "      <td>143397</td>\n",
       "    </tr>\n",
       "  </tbody>\n",
       "</table>\n",
       "</div>"
      ],
      "text/plain": [
       "       group landing_page  user_id\n",
       "0    control     old_page   143293\n",
       "1  treatment     new_page   143397"
      ]
     },
     "execution_count": 38,
     "metadata": {},
     "output_type": "execute_result"
    }
   ],
   "source": [
    "df1[['user_id','group','landing_page']].groupby(['group','landing_page']).count().reset_index()"
   ]
  },
  {
   "cell_type": "markdown",
   "id": "f70b75bd",
   "metadata": {},
   "source": [
    "## 3.3 Amonstragem aleatoria dos grupos Controle e Tratamento "
   ]
  },
  {
   "cell_type": "code",
   "execution_count": 48,
   "id": "fa307797",
   "metadata": {
    "ExecuteTime": {
     "end_time": "2022-07-15T21:55:22.176288Z",
     "start_time": "2022-07-15T21:55:22.094155Z"
    }
   },
   "outputs": [
    {
     "name": "stdout",
     "output_type": "stream",
     "text": [
      "Size of Control Group: 4720\n",
      "Size of Treatment Group: 4720\n"
     ]
    },
    {
     "data": {
      "text/html": [
       "<div>\n",
       "<style scoped>\n",
       "    .dataframe tbody tr th:only-of-type {\n",
       "        vertical-align: middle;\n",
       "    }\n",
       "\n",
       "    .dataframe tbody tr th {\n",
       "        vertical-align: top;\n",
       "    }\n",
       "\n",
       "    .dataframe thead th {\n",
       "        text-align: right;\n",
       "    }\n",
       "</style>\n",
       "<table border=\"1\" class=\"dataframe\">\n",
       "  <thead>\n",
       "    <tr style=\"text-align: right;\">\n",
       "      <th></th>\n",
       "      <th>user_id</th>\n",
       "      <th>timestamp</th>\n",
       "      <th>group</th>\n",
       "      <th>landing_page</th>\n",
       "      <th>converted</th>\n",
       "    </tr>\n",
       "  </thead>\n",
       "  <tbody>\n",
       "    <tr>\n",
       "      <th>0</th>\n",
       "      <td>663037</td>\n",
       "      <td>2017-01-05 02:13:38.063443</td>\n",
       "      <td>control</td>\n",
       "      <td>old_page</td>\n",
       "      <td>0</td>\n",
       "    </tr>\n",
       "    <tr>\n",
       "      <th>1</th>\n",
       "      <td>932826</td>\n",
       "      <td>2017-01-13 04:50:06.941679</td>\n",
       "      <td>control</td>\n",
       "      <td>old_page</td>\n",
       "      <td>1</td>\n",
       "    </tr>\n",
       "    <tr>\n",
       "      <th>2</th>\n",
       "      <td>922999</td>\n",
       "      <td>2017-01-04 07:19:23.813317</td>\n",
       "      <td>control</td>\n",
       "      <td>old_page</td>\n",
       "      <td>0</td>\n",
       "    </tr>\n",
       "    <tr>\n",
       "      <th>3</th>\n",
       "      <td>857826</td>\n",
       "      <td>2017-01-19 02:27:37.678241</td>\n",
       "      <td>control</td>\n",
       "      <td>old_page</td>\n",
       "      <td>0</td>\n",
       "    </tr>\n",
       "    <tr>\n",
       "      <th>4</th>\n",
       "      <td>762926</td>\n",
       "      <td>2017-01-18 17:50:59.261406</td>\n",
       "      <td>control</td>\n",
       "      <td>old_page</td>\n",
       "      <td>0</td>\n",
       "    </tr>\n",
       "  </tbody>\n",
       "</table>\n",
       "</div>"
      ],
      "text/plain": [
       "   user_id                   timestamp    group landing_page  converted\n",
       "0   663037  2017-01-05 02:13:38.063443  control     old_page          0\n",
       "1   932826  2017-01-13 04:50:06.941679  control     old_page          1\n",
       "2   922999  2017-01-04 07:19:23.813317  control     old_page          0\n",
       "3   857826  2017-01-19 02:27:37.678241  control     old_page          0\n",
       "4   762926  2017-01-18 17:50:59.261406  control     old_page          0"
      ]
     },
     "execution_count": 48,
     "metadata": {},
     "output_type": "execute_result"
    }
   ],
   "source": [
    "#Contral Group\n",
    "df_control_sample = df1[df1['group'] == 'control'].sample(n=sample_n, random_state=42)\n",
    "print('Size of Control Group: {}'.format(df_control_sample.shape[0]))\n",
    "\n",
    "\n",
    "#Treatment Group\n",
    "df_treatment_sample = df1[df1['group'] == 'treatment'].sample(n=sample_n, random_state=42)\n",
    "print('Size of Treatment Group: {}'.format(df_treatment_sample.shape[0]))\n",
    "\n",
    "#Total Sample Size\n",
    "df_ab = pd.concat([df_control_sample, df_treatment_sample]).reset_index(drop=True)\n",
    "df_ab.head()"
   ]
  },
  {
   "cell_type": "markdown",
   "id": "f5c5284c",
   "metadata": {},
   "source": [
    "## 3.4 Calculo de métrica de interesse entre os Grupos ( Conversao de cada pagina )"
   ]
  },
  {
   "cell_type": "code",
   "execution_count": 54,
   "id": "fa7e9a1f",
   "metadata": {
    "ExecuteTime": {
     "end_time": "2022-07-15T22:10:52.074386Z",
     "start_time": "2022-07-15T22:10:52.060783Z"
    }
   },
   "outputs": [
    {
     "name": "stdout",
     "output_type": "stream",
     "text": [
      "Converstion Rate - Control Group: 0.1155\n",
      "Converstion Rate - Control Group: 0.1290\n"
     ]
    }
   ],
   "source": [
    "# Control Group\n",
    "sales = df_control_sample.loc[df_control_sample['converted'] == 1, 'converted'].sum()\n",
    "visit = len(df_control_sample)\n",
    "\n",
    "conversion_rate_control = sales/visit\n",
    "print('Converstion Rate - Control Group: {:.4f}'.format(conversion_rate_control))\n",
    "\n",
    "#Treatment Group\n",
    "sales = df_treatment_sample.loc[df_treatment_sample['converted'] == 1, 'converted'].sum()\n",
    "visit = len(df_treatment_sample)\n",
    "\n",
    "conversion_rate_treatment = sales/visit\n",
    "print('Converstion Rate - Control Group: {:.4f}'.format(conversion_rate_treatment))\n",
    "\n"
   ]
  },
  {
   "cell_type": "code",
   "execution_count": null,
   "id": "2146e6d2",
   "metadata": {},
   "outputs": [],
   "source": []
  },
  {
   "cell_type": "code",
   "execution_count": null,
   "id": "75cc05b5",
   "metadata": {},
   "outputs": [],
   "source": []
  }
 ],
 "metadata": {
  "kernelspec": {
   "display_name": "Python 3 (ipykernel)",
   "language": "python",
   "name": "python3"
  },
  "language_info": {
   "codemirror_mode": {
    "name": "ipython",
    "version": 3
   },
   "file_extension": ".py",
   "mimetype": "text/x-python",
   "name": "python",
   "nbconvert_exporter": "python",
   "pygments_lexer": "ipython3",
   "version": "3.8.1"
  },
  "varInspector": {
   "cols": {
    "lenName": 16,
    "lenType": 16,
    "lenVar": 40
   },
   "kernels_config": {
    "python": {
     "delete_cmd_postfix": "",
     "delete_cmd_prefix": "del ",
     "library": "var_list.py",
     "varRefreshCmd": "print(var_dic_list())"
    },
    "r": {
     "delete_cmd_postfix": ") ",
     "delete_cmd_prefix": "rm(",
     "library": "var_list.r",
     "varRefreshCmd": "cat(var_dic_list()) "
    }
   },
   "types_to_exclude": [
    "module",
    "function",
    "builtin_function_or_method",
    "instance",
    "_Feature"
   ],
   "window_display": false
  }
 },
 "nbformat": 4,
 "nbformat_minor": 5
}
