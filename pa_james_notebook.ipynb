{
 "cells": [
  {
   "cell_type": "markdown",
   "id": "3f57a572",
   "metadata": {
    "heading_collapsed": true
   },
   "source": [
    "# AB Test Course - PA James "
   ]
  },
  {
   "cell_type": "markdown",
   "id": "7ec818d5",
   "metadata": {
    "heading_collapsed": true,
    "hidden": true
   },
   "source": [
    "## 0.1 Imports"
   ]
  },
  {
   "cell_type": "code",
   "execution_count": 121,
   "id": "c3af0b90",
   "metadata": {
    "ExecuteTime": {
     "end_time": "2022-07-17T22:58:46.328472Z",
     "start_time": "2022-07-17T22:58:46.318974Z"
    },
    "hidden": true
   },
   "outputs": [],
   "source": [
    "import pandas as pd\n",
    "import math\n",
    "from statsmodels.stats import api as sms\n",
    "import numpy as np\n",
    "import seaborn as sns\n",
    "from scipy.stats import ttest_1samp, shapiro, ttest_ind, mannwhitneyu, f_oneway, chi2_contingency\n",
    "from statsmodels.stats.multicomp import pairwise_tukeyhsd"
   ]
  },
  {
   "cell_type": "markdown",
   "id": "c90f0e6c",
   "metadata": {
    "heading_collapsed": true
   },
   "source": [
    "# 1.0 Load data"
   ]
  },
  {
   "cell_type": "code",
   "execution_count": 99,
   "id": "3be88c6c",
   "metadata": {
    "ExecuteTime": {
     "end_time": "2022-07-17T22:44:24.737122Z",
     "start_time": "2022-07-17T22:44:24.460815Z"
    },
    "hidden": true
   },
   "outputs": [],
   "source": [
    "df_raw = pd.read_csv('../datasets/ab_data.csv')"
   ]
  },
  {
   "cell_type": "code",
   "execution_count": 100,
   "id": "f6153fa2",
   "metadata": {
    "ExecuteTime": {
     "end_time": "2022-07-17T22:44:24.810232Z",
     "start_time": "2022-07-17T22:44:24.801813Z"
    },
    "hidden": true
   },
   "outputs": [
    {
     "data": {
      "text/html": [
       "<div>\n",
       "<style scoped>\n",
       "    .dataframe tbody tr th:only-of-type {\n",
       "        vertical-align: middle;\n",
       "    }\n",
       "\n",
       "    .dataframe tbody tr th {\n",
       "        vertical-align: top;\n",
       "    }\n",
       "\n",
       "    .dataframe thead th {\n",
       "        text-align: right;\n",
       "    }\n",
       "</style>\n",
       "<table border=\"1\" class=\"dataframe\">\n",
       "  <thead>\n",
       "    <tr style=\"text-align: right;\">\n",
       "      <th></th>\n",
       "      <th>user_id</th>\n",
       "      <th>timestamp</th>\n",
       "      <th>group</th>\n",
       "      <th>landing_page</th>\n",
       "      <th>converted</th>\n",
       "    </tr>\n",
       "  </thead>\n",
       "  <tbody>\n",
       "    <tr>\n",
       "      <th>0</th>\n",
       "      <td>851104</td>\n",
       "      <td>2017-01-21 22:11:48.556739</td>\n",
       "      <td>control</td>\n",
       "      <td>old_page</td>\n",
       "      <td>0</td>\n",
       "    </tr>\n",
       "    <tr>\n",
       "      <th>1</th>\n",
       "      <td>804228</td>\n",
       "      <td>2017-01-12 08:01:45.159739</td>\n",
       "      <td>control</td>\n",
       "      <td>old_page</td>\n",
       "      <td>0</td>\n",
       "    </tr>\n",
       "    <tr>\n",
       "      <th>2</th>\n",
       "      <td>661590</td>\n",
       "      <td>2017-01-11 16:55:06.154213</td>\n",
       "      <td>treatment</td>\n",
       "      <td>new_page</td>\n",
       "      <td>0</td>\n",
       "    </tr>\n",
       "    <tr>\n",
       "      <th>3</th>\n",
       "      <td>853541</td>\n",
       "      <td>2017-01-08 18:28:03.143765</td>\n",
       "      <td>treatment</td>\n",
       "      <td>new_page</td>\n",
       "      <td>0</td>\n",
       "    </tr>\n",
       "    <tr>\n",
       "      <th>4</th>\n",
       "      <td>864975</td>\n",
       "      <td>2017-01-21 01:52:26.210827</td>\n",
       "      <td>control</td>\n",
       "      <td>old_page</td>\n",
       "      <td>1</td>\n",
       "    </tr>\n",
       "  </tbody>\n",
       "</table>\n",
       "</div>"
      ],
      "text/plain": [
       "   user_id                   timestamp      group landing_page  converted\n",
       "0   851104  2017-01-21 22:11:48.556739    control     old_page          0\n",
       "1   804228  2017-01-12 08:01:45.159739    control     old_page          0\n",
       "2   661590  2017-01-11 16:55:06.154213  treatment     new_page          0\n",
       "3   853541  2017-01-08 18:28:03.143765  treatment     new_page          0\n",
       "4   864975  2017-01-21 01:52:26.210827    control     old_page          1"
      ]
     },
     "execution_count": 100,
     "metadata": {},
     "output_type": "execute_result"
    }
   ],
   "source": [
    "df_raw.head()"
   ]
  },
  {
   "cell_type": "markdown",
   "id": "a6b15851",
   "metadata": {
    "heading_collapsed": true
   },
   "source": [
    "# 2.0 Design de Experimentos"
   ]
  },
  {
   "cell_type": "markdown",
   "id": "1fc7dba6",
   "metadata": {
    "heading_collapsed": true,
    "hidden": true
   },
   "source": [
    "## 2.1 Formulação da Hipóteses"
   ]
  },
  {
   "cell_type": "code",
   "execution_count": 101,
   "id": "9036b68b",
   "metadata": {
    "ExecuteTime": {
     "end_time": "2022-07-17T22:44:25.885093Z",
     "start_time": "2022-07-17T22:44:25.882264Z"
    },
    "hidden": true
   },
   "outputs": [],
   "source": [
    "#H0: A conversão da nova pagina é de 13%\n",
    "#H1: A conversão da nova pagina é diferente de 13%"
   ]
  },
  {
   "cell_type": "markdown",
   "id": "1185b29d",
   "metadata": {
    "heading_collapsed": true,
    "hidden": true
   },
   "source": [
    "## 2.2 Parâmetros do Experimento"
   ]
  },
  {
   "cell_type": "code",
   "execution_count": 102,
   "id": "17d16cf1",
   "metadata": {
    "ExecuteTime": {
     "end_time": "2022-07-17T22:44:26.512560Z",
     "start_time": "2022-07-17T22:44:26.502444Z"
    },
    "hidden": true
   },
   "outputs": [],
   "source": [
    "#Nivel de confiança\n",
    "confidence_level = 0.95\n",
    "\n",
    "#Nivel de significancia \n",
    "significance_level = 0.05\n",
    "\n",
    "#Conversoes da pagina atual e da nova pagina(esperado pelo time de negocio)\n",
    "p1=0.13\n",
    "p2=0.15\n",
    "\n",
    "# tamanho do efeito\n",
    "effect_size = sms.proportion_effectsize(p1,p2)\n",
    "\n",
    "#Power estatistico (erro de oportunidade)\n",
    "power = 0.8\n"
   ]
  },
  {
   "cell_type": "code",
   "execution_count": 103,
   "id": "17cca153",
   "metadata": {
    "ExecuteTime": {
     "end_time": "2022-07-17T22:44:26.842195Z",
     "start_time": "2022-07-17T22:44:26.807453Z"
    },
    "hidden": true
   },
   "outputs": [
    {
     "data": {
      "text/plain": [
       "4720"
      ]
     },
     "execution_count": 103,
     "metadata": {},
     "output_type": "execute_result"
    }
   ],
   "source": [
    "#sample size\n",
    "sample_n = sms.NormalIndPower().solve_power(\n",
    "    effect_size, \n",
    "    power=power,\n",
    "    alpha=significance_level)\n",
    "\n",
    "sample_n = math.ceil(sample_n)\n",
    "sample_n"
   ]
  },
  {
   "cell_type": "code",
   "execution_count": 104,
   "id": "cb72fc31",
   "metadata": {
    "ExecuteTime": {
     "end_time": "2022-07-17T22:44:27.133083Z",
     "start_time": "2022-07-17T22:44:27.123053Z"
    },
    "hidden": true
   },
   "outputs": [
    {
     "name": "stdout",
     "output_type": "stream",
     "text": [
      "O tamanho total da amostra 9440\n",
      "O tamanho da amostra do grupo controle é de 4720\n",
      "O tamanho da amostra do grupo de tratamento é de 4720\n"
     ]
    }
   ],
   "source": [
    "print('O tamanho total da amostra {}'.format(2*sample_n))\n",
    "print('O tamanho da amostra do grupo controle é de {}'.format(sample_n))\n",
    "print('O tamanho da amostra do grupo de tratamento é de {}'.format(sample_n))\n"
   ]
  },
  {
   "cell_type": "code",
   "execution_count": 105,
   "id": "37dd8c2d",
   "metadata": {
    "ExecuteTime": {
     "end_time": "2022-07-17T22:44:27.457660Z",
     "start_time": "2022-07-17T22:44:27.449788Z"
    },
    "hidden": true
   },
   "outputs": [
    {
     "name": "stdout",
     "output_type": "stream",
     "text": [
      "o numero de email para enviar:47200\n",
      "o numero total da base de emial para enviar:94400\n"
     ]
    }
   ],
   "source": [
    "conversion_rate = 0.10 #quantas vão abrir/responder\n",
    "x= sample_n / conversion_rate\n",
    "print('o numero de email para enviar:{}'.format(int(x)))\n",
    "print('o numero total da base de emial para enviar:{}'.format(2*int(x)))\n"
   ]
  },
  {
   "cell_type": "code",
   "execution_count": 106,
   "id": "3679fd40",
   "metadata": {
    "ExecuteTime": {
     "end_time": "2022-07-17T22:44:27.782547Z",
     "start_time": "2022-07-17T22:44:27.773787Z"
    },
    "hidden": true
   },
   "outputs": [],
   "source": [
    "#Total de pessoas para o estudo com esse parametos são muito alto.\n",
    "#Podemos aumentar as porcentagem de converções o que não seria ideal, \n",
    "#pois uma diferença da p de tratmento deve ser o menor possivel, \n",
    "#assim não tendo diferença na aleatoriedade.\n"
   ]
  },
  {
   "cell_type": "markdown",
   "id": "e8dc3886",
   "metadata": {
    "heading_collapsed": true,
    "hidden": true
   },
   "source": [
    "## 2.3 Analises descritivas dos dados"
   ]
  },
  {
   "cell_type": "code",
   "execution_count": 107,
   "id": "fabcf7d8",
   "metadata": {
    "ExecuteTime": {
     "end_time": "2022-07-17T22:44:28.436675Z",
     "start_time": "2022-07-17T22:44:28.427318Z"
    },
    "hidden": true
   },
   "outputs": [
    {
     "name": "stdout",
     "output_type": "stream",
     "text": [
      "Number of rows: 294478\n",
      "Number of cols: 5\n"
     ]
    }
   ],
   "source": [
    "print('Number of rows: {}'.format(df_raw.shape[0]))\n",
    "print('Number of cols: {}'.format(df_raw.shape[1]))"
   ]
  },
  {
   "cell_type": "markdown",
   "id": "d9fcde93",
   "metadata": {
    "hidden": true
   },
   "source": [
    "### 2.3.1 Verificação de dados faltantes"
   ]
  },
  {
   "cell_type": "code",
   "execution_count": 108,
   "id": "b5627318",
   "metadata": {
    "ExecuteTime": {
     "end_time": "2022-07-17T22:44:29.195901Z",
     "start_time": "2022-07-17T22:44:29.080106Z"
    },
    "hidden": true
   },
   "outputs": [
    {
     "data": {
      "text/plain": [
       "user_id         0\n",
       "timestamp       0\n",
       "group           0\n",
       "landing_page    0\n",
       "converted       0\n",
       "dtype: int64"
      ]
     },
     "execution_count": 108,
     "metadata": {},
     "output_type": "execute_result"
    }
   ],
   "source": [
    "df_raw.isna().sum()"
   ]
  },
  {
   "cell_type": "markdown",
   "id": "8a61c482",
   "metadata": {
    "hidden": true
   },
   "source": [
    "### 2.3.2 Conferir as \"flags\" do teste A"
   ]
  },
  {
   "cell_type": "code",
   "execution_count": 109,
   "id": "a5b745e2",
   "metadata": {
    "ExecuteTime": {
     "end_time": "2022-07-17T22:44:29.814509Z",
     "start_time": "2022-07-17T22:44:29.738475Z"
    },
    "hidden": true
   },
   "outputs": [
    {
     "data": {
      "text/html": [
       "<div>\n",
       "<style scoped>\n",
       "    .dataframe tbody tr th:only-of-type {\n",
       "        vertical-align: middle;\n",
       "    }\n",
       "\n",
       "    .dataframe tbody tr th {\n",
       "        vertical-align: top;\n",
       "    }\n",
       "\n",
       "    .dataframe thead th {\n",
       "        text-align: right;\n",
       "    }\n",
       "</style>\n",
       "<table border=\"1\" class=\"dataframe\">\n",
       "  <thead>\n",
       "    <tr style=\"text-align: right;\">\n",
       "      <th></th>\n",
       "      <th>group</th>\n",
       "      <th>landing_page</th>\n",
       "      <th>user_id</th>\n",
       "    </tr>\n",
       "  </thead>\n",
       "  <tbody>\n",
       "    <tr>\n",
       "      <th>0</th>\n",
       "      <td>control</td>\n",
       "      <td>new_page</td>\n",
       "      <td>1928</td>\n",
       "    </tr>\n",
       "    <tr>\n",
       "      <th>1</th>\n",
       "      <td>control</td>\n",
       "      <td>old_page</td>\n",
       "      <td>145274</td>\n",
       "    </tr>\n",
       "    <tr>\n",
       "      <th>2</th>\n",
       "      <td>treatment</td>\n",
       "      <td>new_page</td>\n",
       "      <td>145311</td>\n",
       "    </tr>\n",
       "    <tr>\n",
       "      <th>3</th>\n",
       "      <td>treatment</td>\n",
       "      <td>old_page</td>\n",
       "      <td>1965</td>\n",
       "    </tr>\n",
       "  </tbody>\n",
       "</table>\n",
       "</div>"
      ],
      "text/plain": [
       "       group landing_page  user_id\n",
       "0    control     new_page     1928\n",
       "1    control     old_page   145274\n",
       "2  treatment     new_page   145311\n",
       "3  treatment     old_page     1965"
      ]
     },
     "execution_count": 109,
     "metadata": {},
     "output_type": "execute_result"
    }
   ],
   "source": [
    "df_raw[['user_id','group','landing_page']].groupby(['group','landing_page']).count().reset_index()"
   ]
  },
  {
   "cell_type": "code",
   "execution_count": 110,
   "id": "3bd5fac9",
   "metadata": {
    "ExecuteTime": {
     "end_time": "2022-07-17T22:44:30.311078Z",
     "start_time": "2022-07-17T22:44:30.115830Z"
    },
    "hidden": true
   },
   "outputs": [
    {
     "data": {
      "text/plain": [
       "(286690, 5)"
      ]
     },
     "execution_count": 110,
     "metadata": {},
     "output_type": "execute_result"
    }
   ],
   "source": [
    "df_raw_delete = df_raw[['user_id','group']].groupby(['user_id']).count().reset_index().query('group > 1 ')['user_id']\n",
    "df1 = df_raw[~df_raw['user_id'].isin(df_raw_delete)]\n",
    "df1.shape"
   ]
  },
  {
   "cell_type": "code",
   "execution_count": 111,
   "id": "ea4f84ea",
   "metadata": {
    "ExecuteTime": {
     "end_time": "2022-07-17T22:44:30.499943Z",
     "start_time": "2022-07-17T22:44:30.445860Z"
    },
    "hidden": true
   },
   "outputs": [
    {
     "data": {
      "text/html": [
       "<div>\n",
       "<style scoped>\n",
       "    .dataframe tbody tr th:only-of-type {\n",
       "        vertical-align: middle;\n",
       "    }\n",
       "\n",
       "    .dataframe tbody tr th {\n",
       "        vertical-align: top;\n",
       "    }\n",
       "\n",
       "    .dataframe thead th {\n",
       "        text-align: right;\n",
       "    }\n",
       "</style>\n",
       "<table border=\"1\" class=\"dataframe\">\n",
       "  <thead>\n",
       "    <tr style=\"text-align: right;\">\n",
       "      <th></th>\n",
       "      <th>group</th>\n",
       "      <th>landing_page</th>\n",
       "      <th>user_id</th>\n",
       "    </tr>\n",
       "  </thead>\n",
       "  <tbody>\n",
       "    <tr>\n",
       "      <th>0</th>\n",
       "      <td>control</td>\n",
       "      <td>old_page</td>\n",
       "      <td>143293</td>\n",
       "    </tr>\n",
       "    <tr>\n",
       "      <th>1</th>\n",
       "      <td>treatment</td>\n",
       "      <td>new_page</td>\n",
       "      <td>143397</td>\n",
       "    </tr>\n",
       "  </tbody>\n",
       "</table>\n",
       "</div>"
      ],
      "text/plain": [
       "       group landing_page  user_id\n",
       "0    control     old_page   143293\n",
       "1  treatment     new_page   143397"
      ]
     },
     "execution_count": 111,
     "metadata": {},
     "output_type": "execute_result"
    }
   ],
   "source": [
    "df1[['user_id','group','landing_page']].groupby(['group','landing_page']).count().reset_index()"
   ]
  },
  {
   "cell_type": "markdown",
   "id": "f70b75bd",
   "metadata": {
    "hidden": true
   },
   "source": [
    "### 2.3.3 Amonstragem aleatoria dos grupos Controle e Tratamento "
   ]
  },
  {
   "cell_type": "code",
   "execution_count": 112,
   "id": "fa307797",
   "metadata": {
    "ExecuteTime": {
     "end_time": "2022-07-17T22:44:31.202342Z",
     "start_time": "2022-07-17T22:44:31.115858Z"
    },
    "hidden": true
   },
   "outputs": [
    {
     "name": "stdout",
     "output_type": "stream",
     "text": [
      "Size of Control Group: 4720\n",
      "Size of Treatment Group: 4720\n"
     ]
    },
    {
     "data": {
      "text/html": [
       "<div>\n",
       "<style scoped>\n",
       "    .dataframe tbody tr th:only-of-type {\n",
       "        vertical-align: middle;\n",
       "    }\n",
       "\n",
       "    .dataframe tbody tr th {\n",
       "        vertical-align: top;\n",
       "    }\n",
       "\n",
       "    .dataframe thead th {\n",
       "        text-align: right;\n",
       "    }\n",
       "</style>\n",
       "<table border=\"1\" class=\"dataframe\">\n",
       "  <thead>\n",
       "    <tr style=\"text-align: right;\">\n",
       "      <th></th>\n",
       "      <th>user_id</th>\n",
       "      <th>timestamp</th>\n",
       "      <th>group</th>\n",
       "      <th>landing_page</th>\n",
       "      <th>converted</th>\n",
       "    </tr>\n",
       "  </thead>\n",
       "  <tbody>\n",
       "    <tr>\n",
       "      <th>0</th>\n",
       "      <td>663037</td>\n",
       "      <td>2017-01-05 02:13:38.063443</td>\n",
       "      <td>control</td>\n",
       "      <td>old_page</td>\n",
       "      <td>0</td>\n",
       "    </tr>\n",
       "    <tr>\n",
       "      <th>1</th>\n",
       "      <td>932826</td>\n",
       "      <td>2017-01-13 04:50:06.941679</td>\n",
       "      <td>control</td>\n",
       "      <td>old_page</td>\n",
       "      <td>1</td>\n",
       "    </tr>\n",
       "    <tr>\n",
       "      <th>2</th>\n",
       "      <td>922999</td>\n",
       "      <td>2017-01-04 07:19:23.813317</td>\n",
       "      <td>control</td>\n",
       "      <td>old_page</td>\n",
       "      <td>0</td>\n",
       "    </tr>\n",
       "    <tr>\n",
       "      <th>3</th>\n",
       "      <td>857826</td>\n",
       "      <td>2017-01-19 02:27:37.678241</td>\n",
       "      <td>control</td>\n",
       "      <td>old_page</td>\n",
       "      <td>0</td>\n",
       "    </tr>\n",
       "    <tr>\n",
       "      <th>4</th>\n",
       "      <td>762926</td>\n",
       "      <td>2017-01-18 17:50:59.261406</td>\n",
       "      <td>control</td>\n",
       "      <td>old_page</td>\n",
       "      <td>0</td>\n",
       "    </tr>\n",
       "  </tbody>\n",
       "</table>\n",
       "</div>"
      ],
      "text/plain": [
       "   user_id                   timestamp    group landing_page  converted\n",
       "0   663037  2017-01-05 02:13:38.063443  control     old_page          0\n",
       "1   932826  2017-01-13 04:50:06.941679  control     old_page          1\n",
       "2   922999  2017-01-04 07:19:23.813317  control     old_page          0\n",
       "3   857826  2017-01-19 02:27:37.678241  control     old_page          0\n",
       "4   762926  2017-01-18 17:50:59.261406  control     old_page          0"
      ]
     },
     "execution_count": 112,
     "metadata": {},
     "output_type": "execute_result"
    }
   ],
   "source": [
    "#Contral Group\n",
    "df_control_sample = df1[df1['group'] == 'control'].sample(n=sample_n, random_state=42)\n",
    "print('Size of Control Group: {}'.format(df_control_sample.shape[0]))\n",
    "\n",
    "\n",
    "#Treatment Group\n",
    "df_treatment_sample = df1[df1['group'] == 'treatment'].sample(n=sample_n, random_state=42)\n",
    "print('Size of Treatment Group: {}'.format(df_treatment_sample.shape[0]))\n",
    "\n",
    "#Total Sample Size\n",
    "df_ab = pd.concat([df_control_sample, df_treatment_sample]).reset_index(drop=True)\n",
    "df_ab.head()"
   ]
  },
  {
   "cell_type": "markdown",
   "id": "f5c5284c",
   "metadata": {
    "hidden": true
   },
   "source": [
    "### 2.3.4 Calculo de métrica de interesse entre os Grupos ( Conversao de cada pagina )"
   ]
  },
  {
   "cell_type": "code",
   "execution_count": 114,
   "id": "fa7e9a1f",
   "metadata": {
    "ExecuteTime": {
     "end_time": "2022-07-17T22:44:52.081478Z",
     "start_time": "2022-07-17T22:44:52.065037Z"
    },
    "hidden": true
   },
   "outputs": [
    {
     "name": "stdout",
     "output_type": "stream",
     "text": [
      "Converstion Rate - Control Group: 0.11546610169491525\n",
      "Converstion Rate - Treatment Group: 0.12902542372881357\n"
     ]
    }
   ],
   "source": [
    "# Control Group\n",
    "sales = df_control_sample.loc[df_control_sample['converted'] == 1, 'converted'].sum()\n",
    "visit = len(df_control_sample)\n",
    "\n",
    "conversion_rate_control = sales/visit\n",
    "print('Converstion Rate - Control Group: {}'.format(conversion_rate_control))\n",
    "\n",
    "#Treatment Group\n",
    "sales = df_treatment_sample.loc[df_treatment_sample['converted'] == 1, 'converted'].sum()\n",
    "visit = len(df_treatment_sample)\n",
    "\n",
    "conversion_rate_treatment = sales/visit\n",
    "print('Converstion Rate - Treatment Group: {}'.format(conversion_rate_treatment))\n",
    "\n"
   ]
  },
  {
   "cell_type": "markdown",
   "id": "ad53800c",
   "metadata": {
    "heading_collapsed": true
   },
   "source": [
    "# 3.0 Teste de hipóteses"
   ]
  },
  {
   "cell_type": "code",
   "execution_count": 120,
   "id": "f955acb5",
   "metadata": {
    "ExecuteTime": {
     "end_time": "2022-07-17T22:56:30.075726Z",
     "start_time": "2022-07-17T22:56:30.054789Z"
    },
    "hidden": true
   },
   "outputs": [
    {
     "data": {
      "text/html": [
       "<div>\n",
       "<style scoped>\n",
       "    .dataframe tbody tr th:only-of-type {\n",
       "        vertical-align: middle;\n",
       "    }\n",
       "\n",
       "    .dataframe tbody tr th {\n",
       "        vertical-align: top;\n",
       "    }\n",
       "\n",
       "    .dataframe thead th {\n",
       "        text-align: right;\n",
       "    }\n",
       "</style>\n",
       "<table border=\"1\" class=\"dataframe\">\n",
       "  <thead>\n",
       "    <tr style=\"text-align: right;\">\n",
       "      <th></th>\n",
       "      <th>group</th>\n",
       "      <th>converted</th>\n",
       "      <th>non_converted</th>\n",
       "    </tr>\n",
       "  </thead>\n",
       "  <tbody>\n",
       "    <tr>\n",
       "      <th>0</th>\n",
       "      <td>control</td>\n",
       "      <td>545</td>\n",
       "      <td>4720</td>\n",
       "    </tr>\n",
       "    <tr>\n",
       "      <th>1</th>\n",
       "      <td>treatment</td>\n",
       "      <td>609</td>\n",
       "      <td>4720</td>\n",
       "    </tr>\n",
       "  </tbody>\n",
       "</table>\n",
       "</div>"
      ],
      "text/plain": [
       "       group  converted  non_converted\n",
       "0    control        545           4720\n",
       "1  treatment        609           4720"
      ]
     },
     "execution_count": 120,
     "metadata": {},
     "output_type": "execute_result"
    }
   ],
   "source": [
    "df_table = df_ab[['group','converted']].groupby('group').agg({'converted':['sum','count']})\n",
    "df_table.columns = ['converted','non_converted']\n",
    "df_table.reset_index()"
   ]
  },
  {
   "cell_type": "code",
   "execution_count": 123,
   "id": "6d2ec32f",
   "metadata": {
    "ExecuteTime": {
     "end_time": "2022-07-17T23:00:53.335100Z",
     "start_time": "2022-07-17T23:00:53.294235Z"
    },
    "hidden": true
   },
   "outputs": [
    {
     "name": "stdout",
     "output_type": "stream",
     "text": [
      "p-value: 0.08059188499562367\n"
     ]
    }
   ],
   "source": [
    "chi_val, pval, dof, expected = chi2_contingency(df_table)\n",
    "print('p-value: {}'.format(pval))"
   ]
  },
  {
   "cell_type": "code",
   "execution_count": 127,
   "id": "16fe5157",
   "metadata": {
    "ExecuteTime": {
     "end_time": "2022-07-17T23:03:54.020853Z",
     "start_time": "2022-07-17T23:03:54.012022Z"
    },
    "hidden": true
   },
   "outputs": [
    {
     "name": "stdout",
     "output_type": "stream",
     "text": [
      "Falha em rejeitar a hipotese nula(Aceita a hipotese nula)\n"
     ]
    }
   ],
   "source": [
    "if pval < significance_level:\n",
    "    print('Rejeito a hipotese nula')\n",
    "else:\n",
    "    print('Falha em rejeitar a hipotese nula(Aceita a hipotese nula)') "
   ]
  },
  {
   "cell_type": "code",
   "execution_count": null,
   "id": "f223b8ce",
   "metadata": {
    "hidden": true
   },
   "outputs": [],
   "source": [
    "# Não consegui concluir que o novo designer não é melhor que a pagina atual,\n",
    "# Alternativas mudar o designer ou coletar mais amostras"
   ]
  },
  {
   "cell_type": "markdown",
   "id": "ea500b6d",
   "metadata": {
    "heading_collapsed": true
   },
   "source": [
    "# 4.0 Conversão da paginas em faturamento"
   ]
  },
  {
   "cell_type": "code",
   "execution_count": 130,
   "id": "260c7011",
   "metadata": {
    "ExecuteTime": {
     "end_time": "2022-07-17T23:20:46.528139Z",
     "start_time": "2022-07-17T23:20:46.505889Z"
    },
    "hidden": true
   },
   "outputs": [],
   "source": [
    "df2 = df1.copy()"
   ]
  },
  {
   "cell_type": "code",
   "execution_count": 131,
   "id": "e81a65c8",
   "metadata": {
    "ExecuteTime": {
     "end_time": "2022-07-17T23:20:48.012537Z",
     "start_time": "2022-07-17T23:20:48.002232Z"
    },
    "hidden": true
   },
   "outputs": [],
   "source": [
    "paginas_atual= 0.13\n",
    "pagina_nova = 0.15"
   ]
  },
  {
   "cell_type": "code",
   "execution_count": 132,
   "id": "1c353695",
   "metadata": {
    "ExecuteTime": {
     "end_time": "2022-07-17T23:20:48.206094Z",
     "start_time": "2022-07-17T23:20:48.201838Z"
    },
    "hidden": true
   },
   "outputs": [],
   "source": [
    "#compradores = numeros de visitantes * 0.13 \n",
    "#Gross Margin Value(faturamento) = compradores * 4500"
   ]
  },
  {
   "cell_type": "code",
   "execution_count": 134,
   "id": "03b6949f",
   "metadata": {
    "ExecuteTime": {
     "end_time": "2022-07-17T23:26:15.434080Z",
     "start_time": "2022-07-17T23:26:14.161437Z"
    },
    "hidden": true
   },
   "outputs": [],
   "source": [
    "#tranformando as datas\n",
    "df2['timestamp'] = pd.to_datetime(df2['timestamp']). apply (lambda x: x.strftime('%Y-%m-%d'))"
   ]
  },
  {
   "cell_type": "code",
   "execution_count": 170,
   "id": "6a259a48",
   "metadata": {
    "ExecuteTime": {
     "end_time": "2022-07-17T23:52:48.377285Z",
     "start_time": "2022-07-17T23:52:48.323946Z"
    },
    "hidden": true
   },
   "outputs": [
    {
     "name": "stdout",
     "output_type": "stream",
     "text": [
      "GMV On Period: 167760000\n",
      "New GMV On Period: 193563000\n",
      "Abs_GMV:25803000\n",
      "Expected Lift:15.38%\n"
     ]
    }
   ],
   "source": [
    "df3 = df2[['user_id','timestamp']].groupby('timestamp').count().reset_index()\n",
    "\n",
    "#Current GMV\n",
    "df3['current_purchases'] = np.ceil (df3['user_id'] * 0.13).astype(int)\n",
    "df3['current_GMV'] = df3['current_purchases'] *4500\n",
    "\n",
    "\n",
    "current_gmv = df3 ['current_GMV'].sum()\n",
    "print('GMV On Period: {}'.format (df3['current_GMV'].sum()))\n",
    "\n",
    "\n",
    "#Expected GMV\n",
    "df3['new_purchases'] = np.ceil (df3['user_id'] * 0.15).astype(int)\n",
    "df3['new_GMV'] = df3['new_purchases'] *4500\n",
    "\n",
    "new_gmv = df3 ['new_GMV'].sum()\n",
    "print('New GMV On Period: {}'.format (new_gmv))\n",
    "\n",
    "lift_abs = new_gmv - current_gmv\n",
    "print('Abs_GMV:{}'.format(lift_abs))\n",
    "\n",
    "lift = 100 * (new_gmv - current_gmv) / current_gmv\n",
    "print('Expected Lift:{:.2f}%'.format(lift))\n",
    "\n"
   ]
  },
  {
   "cell_type": "markdown",
   "id": "4d58462a",
   "metadata": {
    "heading_collapsed": true
   },
   "source": [
    "# 5.0 Exemplos de Testes Estatisticos"
   ]
  },
  {
   "cell_type": "markdown",
   "id": "b7fc27fc",
   "metadata": {
    "heading_collapsed": true,
    "hidden": true
   },
   "source": [
    "## 5.1 One-Sample Test"
   ]
  },
  {
   "cell_type": "code",
   "execution_count": 23,
   "id": "75cc05b5",
   "metadata": {
    "ExecuteTime": {
     "end_time": "2022-07-17T20:53:38.465525Z",
     "start_time": "2022-07-17T20:53:38.461392Z"
    },
    "hidden": true
   },
   "outputs": [],
   "source": [
    "##Problema1##\n",
    "#Suponha que um biologo gostaria de saber se altura média de uma certa especie de planta é igual a 15cm\n",
    "#Ele coleta amostras aleatoria de 12 plantas e anota cada uma de suas alturas em cm.\n",
    "\n",
    "\n",
    "df = [14,14,16,13,12,17,15,14,15,13,15,14]\n",
    "\n",
    "# ho: u = 15 ( A altura média das especies das plantas, de fato, é de 15cm)\n",
    "# h1: u <> 15 ( A altura média das especies das plantas é diferete de 15cm)\n"
   ]
  },
  {
   "cell_type": "code",
   "execution_count": 13,
   "id": "2a45c15c",
   "metadata": {
    "ExecuteTime": {
     "end_time": "2022-07-16T21:49:47.623142Z",
     "start_time": "2022-07-16T21:49:47.607940Z"
    },
    "hidden": true
   },
   "outputs": [
    {
     "name": "stdout",
     "output_type": "stream",
     "text": [
      "p-value:0.12014460742498101\n",
      "Falha em rejeita a hipótese nula\n"
     ]
    }
   ],
   "source": [
    "statstic, pvalue = ttest_1samp(df, popmean = 15)\n",
    "print('p-value:{}'.format(pvalue))\n",
    "\n",
    "alpha = 0.05\n",
    "if pvalue < alpha:\n",
    "    print('Rejeita a hipótese nula')\n",
    "else:\n",
    "    print('Falha em rejeita a hipótese nula')\n",
    "    \n",
    "#Se p-value for < alpha rejeitar a Ho.\n",
    "    #ou seja, a altura média das plantas e diferente de 15cm \n",
    "#Se p-value for > alpha, não existe evidencia suficiente para se rejeitar a Ho\n",
    "    #ou seja, as plantas podem ter em media 15cm\n",
    "    \n",
    "    "
   ]
  },
  {
   "cell_type": "markdown",
   "id": "213f41aa",
   "metadata": {
    "heading_collapsed": true,
    "hidden": true
   },
   "source": [
    "## 5.2 Two-sample test ( Condições Paramétricas são satisfeitas)"
   ]
  },
  {
   "cell_type": "code",
   "execution_count": 4,
   "id": "d1064e62",
   "metadata": {
    "ExecuteTime": {
     "end_time": "2022-07-17T20:01:51.108173Z",
     "start_time": "2022-07-17T20:01:51.103188Z"
    },
    "hidden": true
   },
   "outputs": [
    {
     "name": "stdout",
     "output_type": "stream",
     "text": [
      "15.15\n",
      "15.8\n"
     ]
    }
   ],
   "source": [
    "###Problema 2\n",
    "#Pesquisadores gostariam de saber se duas especies diferentes de plantas tem a mesma altura média\n",
    "#Eles coletam amostras aleatorias de 20 plantas de cada especie.\n",
    "\n",
    "df1 = np.array([14,15,15,16,13,8,14,17,16,14,19,20,21,15,15,16,16,13,14,12])\n",
    "               \n",
    "df2 = np.array([15,17,14,17,14,8,12,19,19,14,17,22,24,16,13,16,13,18,15,13])\n",
    "\n",
    "#H0: u1  = u2 (A altura média das espécies dos grupos são iguais)\n",
    "#H1: u1 <> u2 (A altura média das espécies dos grupos são diferentes)\n",
    "               \n",
    "               \n",
    "print(np.mean(df1))\n",
    "print(np.mean(df2))"
   ]
  },
  {
   "cell_type": "code",
   "execution_count": 13,
   "id": "9b277d45",
   "metadata": {
    "ExecuteTime": {
     "end_time": "2022-07-17T20:22:07.824830Z",
     "start_time": "2022-07-17T20:22:07.810707Z"
    },
    "hidden": true
   },
   "outputs": [
    {
     "name": "stdout",
     "output_type": "stream",
     "text": [
      "p-value1: 0.2267775684595108\n",
      "p-value2: 0.6782065033912659\n",
      "\n",
      "Var 1: 7.727500000000001\n",
      "Var 2: 12.260000000000002\n"
     ]
    }
   ],
   "source": [
    "#Condições paramétricas\n",
    "#1. Amostras Independentes\n",
    "\n",
    "#2. Normalmente distribuidas\n",
    "\n",
    "#### Teste de normalidade - Shapiro ####\n",
    "#H0: Distribuição normalmente distribuida\n",
    "#H1: Distribução não normal\n",
    "\n",
    "# if pvalue < alpha:\n",
    "# print('Rejeito a hipotese nula')\n",
    "# else\n",
    "# print('Falha em rejeitar a hipote nula')\n",
    "\n",
    "stats, pvalue1 = shapiro(df1)\n",
    "print('p-value1: {}'.format(pvalue1))\n",
    "#falha em rejeitar a hipote nula\n",
    "\n",
    "stats, pvalue2 = shapiro(df2)\n",
    "print('p-value2: {}'.format(pvalue2))\n",
    "#falha em rejeitar a hipote nula\n",
    "\n",
    "\n",
    "#3. Variancias iguais\n",
    "print('\\nVar 1: {}'.format(np.var(df1)))\n",
    "print('Var 2: {}'.format(np.var(df2)))\n",
    "\n",
    "\n",
    "#12/7 > 4: Amostras tem variância igual"
   ]
  },
  {
   "cell_type": "code",
   "execution_count": 22,
   "id": "2c6bd209",
   "metadata": {
    "ExecuteTime": {
     "end_time": "2022-07-17T20:42:49.294731Z",
     "start_time": "2022-07-17T20:42:49.269270Z"
    },
    "hidden": true
   },
   "outputs": [
    {
     "name": "stdout",
     "output_type": "stream",
     "text": [
      "p-value:0.5300471010405257\n",
      "Falha em rejeitar a hipotese nula(Aceita a hipotese nula)\n"
     ]
    }
   ],
   "source": [
    "stats, pvalue = ttest_ind(df1, df2, equal_var= True)\n",
    "print('p-value:{}'.format(pvalue))\n",
    "\n",
    "alpha = 0.05\n",
    "if pvalue < alpha:\n",
    "    print('Rejeito a hipotese nula')\n",
    "else:\n",
    "    print('Falha em rejeitar a hipotese nula(Aceita a hipotese nula)') \n",
    "\n",
    "#Ou uma amostragem maior de plantas ou um adubo melhor.\n"
   ]
  },
  {
   "cell_type": "markdown",
   "id": "dbc3e518",
   "metadata": {
    "ExecuteTime": {
     "end_time": "2022-07-17T20:58:12.572306Z",
     "start_time": "2022-07-17T20:58:12.568676Z"
    },
    "heading_collapsed": true,
    "hidden": true
   },
   "source": [
    "## 5.3 Mann-Whitney U-test ( Condições Paramétricas não são satisfeitas)"
   ]
  },
  {
   "cell_type": "code",
   "execution_count": 30,
   "id": "c93cdc23",
   "metadata": {
    "ExecuteTime": {
     "end_time": "2022-07-17T21:06:16.481564Z",
     "start_time": "2022-07-17T21:06:16.470629Z"
    },
    "hidden": true
   },
   "outputs": [
    {
     "name": "stdout",
     "output_type": "stream",
     "text": [
      "21.416666666666668\n",
      "22.75\n"
     ]
    }
   ],
   "source": [
    "df1 = [20,23,21,20,18,17,18,14,20,24,43,19]\n",
    "df2 = [24,25,21,22,23,18,17,28,24,27,21,23]\n",
    "\n",
    "#H0: u1  = u2 (A altura média das plantas dos grupos são iguais)\n",
    "#H1: u1 <> u2 (A altura média das plantas dos grupos são diferentes)\n",
    "print(np.mean(df1))\n",
    "print(np.mean(df2))"
   ]
  },
  {
   "cell_type": "code",
   "execution_count": 31,
   "id": "75795c3a",
   "metadata": {
    "ExecuteTime": {
     "end_time": "2022-07-17T21:06:17.582434Z",
     "start_time": "2022-07-17T21:06:17.563738Z"
    },
    "hidden": true
   },
   "outputs": [
    {
     "name": "stdout",
     "output_type": "stream",
     "text": [
      "p-value1: 0.0005459139938466251\n",
      "p-value2: 0.9021502137184143\n",
      "\n",
      "Var 1: 48.743055555555564\n",
      "Var 2: 9.6875\n"
     ]
    }
   ],
   "source": [
    "#Condições paramétricas\n",
    "#1. Amostras Independentes\n",
    "\n",
    "#2. Normalmente distribuidas\n",
    "\n",
    "#### Teste de normalidade - Shapiro ####\n",
    "#H0: Distribuição normalmente distribuida\n",
    "#H1: Distribução não normal\n",
    "\n",
    "# if pvalue < alpha:\n",
    "# print('Rejeito a hipotese nula')\n",
    "# else\n",
    "# print('Falha em rejeitar a hipote nula')\n",
    "\n",
    "stats, pvalue1 = shapiro(df1)\n",
    "print('p-value1: {}'.format(pvalue1))\n",
    "#falha em rejeitar a hipote nula\n",
    "\n",
    "stats, pvalue2 = shapiro(df2)\n",
    "print('p-value2: {}'.format(pvalue2))\n",
    "#falha em rejeitar a hipote nula\n",
    "\n",
    "\n",
    "#3. Variancias iguais\n",
    "print('\\nVar 1: {}'.format(np.var(df1)))\n",
    "print('Var 2: {}'.format(np.var(df2)))\n",
    "\n",
    "\n",
    "#12/7 > 4: Amostras tem variância igual"
   ]
  },
  {
   "cell_type": "code",
   "execution_count": 40,
   "id": "30b476d1",
   "metadata": {
    "ExecuteTime": {
     "end_time": "2022-07-17T21:10:14.557756Z",
     "start_time": "2022-07-17T21:10:14.535585Z"
    },
    "hidden": true
   },
   "outputs": [
    {
     "name": "stdout",
     "output_type": "stream",
     "text": [
      "p-value:0.07217495133598324\n",
      "Falha em rejeitar a hipotese nula(Aceita a hipotese nula)\n"
     ]
    }
   ],
   "source": [
    "#stats, pvalue = ttest_ind(df1, df2, equal_var= False)\n",
    "stats, pvalue = mannwhitneyu(df1, df2)\n",
    "print('p-value:{}'.format(pvalue))\n",
    "\n",
    "alpha = 0.05\n",
    "if pvalue < alpha:\n",
    "    print('Rejeito a hipotese nula')\n",
    "else:\n",
    "    print('Falha em rejeitar a hipotese nula(Aceita a hipotese nula)') "
   ]
  },
  {
   "cell_type": "markdown",
   "id": "2ecced12",
   "metadata": {
    "heading_collapsed": true,
    "hidden": true
   },
   "source": [
    "## 5.4 One-Way ANOVA"
   ]
  },
  {
   "cell_type": "code",
   "execution_count": 55,
   "id": "978dfa95",
   "metadata": {
    "ExecuteTime": {
     "end_time": "2022-07-17T21:39:10.845917Z",
     "start_time": "2022-07-17T21:39:10.834128Z"
    },
    "hidden": true
   },
   "outputs": [
    {
     "data": {
      "text/html": [
       "<div>\n",
       "<style scoped>\n",
       "    .dataframe tbody tr th:only-of-type {\n",
       "        vertical-align: middle;\n",
       "    }\n",
       "\n",
       "    .dataframe tbody tr th {\n",
       "        vertical-align: top;\n",
       "    }\n",
       "\n",
       "    .dataframe thead th {\n",
       "        text-align: right;\n",
       "    }\n",
       "</style>\n",
       "<table border=\"1\" class=\"dataframe\">\n",
       "  <thead>\n",
       "    <tr style=\"text-align: right;\">\n",
       "      <th></th>\n",
       "      <th>index</th>\n",
       "      <th>treatment</th>\n",
       "      <th>value</th>\n",
       "    </tr>\n",
       "  </thead>\n",
       "  <tbody>\n",
       "    <tr>\n",
       "      <th>0</th>\n",
       "      <td>0</td>\n",
       "      <td>A</td>\n",
       "      <td>25</td>\n",
       "    </tr>\n",
       "    <tr>\n",
       "      <th>1</th>\n",
       "      <td>1</td>\n",
       "      <td>A</td>\n",
       "      <td>30</td>\n",
       "    </tr>\n",
       "    <tr>\n",
       "      <th>2</th>\n",
       "      <td>2</td>\n",
       "      <td>A</td>\n",
       "      <td>28</td>\n",
       "    </tr>\n",
       "    <tr>\n",
       "      <th>3</th>\n",
       "      <td>3</td>\n",
       "      <td>A</td>\n",
       "      <td>36</td>\n",
       "    </tr>\n",
       "    <tr>\n",
       "      <th>4</th>\n",
       "      <td>4</td>\n",
       "      <td>A</td>\n",
       "      <td>29</td>\n",
       "    </tr>\n",
       "  </tbody>\n",
       "</table>\n",
       "</div>"
      ],
      "text/plain": [
       "   index treatment  value\n",
       "0      0         A     25\n",
       "1      1         A     30\n",
       "2      2         A     28\n",
       "3      3         A     36\n",
       "4      4         A     29"
      ]
     },
     "execution_count": 55,
     "metadata": {},
     "output_type": "execute_result"
    }
   ],
   "source": [
    "###Problema 3 \n",
    "#Pesquisadores gostariam de saber se existe uma diferença entre as medias de 4 grupos que foram submetidos a\n",
    "#tratamentos diferentes\n",
    "\n",
    "\n",
    "\n",
    "df = pd.DataFrame({'A':[25,30,28,36,29],\n",
    "                   'B':[45,55,29,56,40],\n",
    "                   'C':[30,29,33,37,27],\n",
    "                   'D':[54,60,51,62,73]})\n",
    "\n",
    "df_melt = pd.melt(df.reset_index(), id_vars=['index'], value_vars=['A','B','C','D'])\n",
    "df_melt.columns = ['index', 'treatment', 'value']\n",
    "df_melt.head()"
   ]
  },
  {
   "cell_type": "code",
   "execution_count": 57,
   "id": "729fa7dd",
   "metadata": {
    "ExecuteTime": {
     "end_time": "2022-07-17T21:45:33.148245Z",
     "start_time": "2022-07-17T21:45:32.955319Z"
    },
    "hidden": true
   },
   "outputs": [
    {
     "data": {
      "image/png": "[encoded data removed]",
      "text/plain": [
       "<Figure size 432x288 with 1 Axes>"
      ]
     },
     "metadata": {
      "needs_background": "light"
     },
     "output_type": "display_data"
    }
   ],
   "source": [
    "sns.boxplot(x='treatment', y='value', data=df_melt);\n",
    "sns.swarmplot(x='treatment', y='value', data=df_melt, color='b');"
   ]
  },
  {
   "cell_type": "code",
   "execution_count": 66,
   "id": "cecd901a",
   "metadata": {
    "ExecuteTime": {
     "end_time": "2022-07-17T21:54:22.200809Z",
     "start_time": "2022-07-17T21:54:22.189717Z"
    },
    "hidden": true
   },
   "outputs": [
    {
     "name": "stdout",
     "output_type": "stream",
     "text": [
      "p-value - Grupo A: 0.6075581908226013\n",
      "p-value - Grupo B: 0.5723667740821838\n",
      "p-value - Grupo C: 0.7583119869232178\n",
      "p-value - Grupo D: 0.7002365589141846\n",
      "\n",
      "variancia - Grupo A: 13.040000000000001\n",
      "variancia - Grupo B: 100.4\n",
      "variancia - Grupo C: 12.16\n",
      "variancia - Grupo D: 58.0\n"
     ]
    }
   ],
   "source": [
    "#Condições paramétricas\n",
    "#2. Normalmente distribuidas\n",
    "\n",
    "#### Teste de normalidade - Shapiro ####\n",
    "#H0: Distribuição normalmente distribuida\n",
    "#H1: Distribução não normal\n",
    "\n",
    "# if pvalue < alpha:\n",
    "# print('Rejeito a hipotese nula')\n",
    "# else\n",
    "# print('Falha em rejeitar a hipote nula')\n",
    "\n",
    "stats, pvalue = shapiro(df['A'])\n",
    "print('p-value - Grupo A: {}'.format(pvalue))\n",
    "stats, pvalue = shapiro(df['B'])\n",
    "print('p-value - Grupo B: {}'.format(pvalue))\n",
    "stats, pvalue = shapiro(df['C'])\n",
    "print('p-value - Grupo C: {}'.format(pvalue))\n",
    "stats, pvalue = shapiro(df['D'])\n",
    "print('p-value - Grupo D: {}'.format(pvalue))\n",
    "\n",
    "#3. Variancias iguais\n",
    "\n",
    "print('\\nvariancia - Grupo A: {}'.format (np.var(df['A'])))\n",
    "print('variancia - Grupo B: {}'.format (np.var(df['B'])))\n",
    "print('variancia - Grupo C: {}'.format (np.var(df['C'])))\n",
    "print('variancia - Grupo D: {}'.format (np.var(df['D'])))\n",
    "\n",
    "#Supondo que as VArians foram iguais vamos fazer o ANOVA"
   ]
  },
  {
   "cell_type": "code",
   "execution_count": 90,
   "id": "63777b72",
   "metadata": {
    "ExecuteTime": {
     "end_time": "2022-07-17T22:22:33.744644Z",
     "start_time": "2022-07-17T22:22:33.737474Z"
    },
    "hidden": true
   },
   "outputs": [
    {
     "name": "stdout",
     "output_type": "stream",
     "text": [
      "p-value:2.639241146210922e-05\n",
      "Rejeito a hipotese nula\n"
     ]
    }
   ],
   "source": [
    "stats, pvalue = f_oneway(df['A'],df['B'],df['C'],df['D'])\n",
    "print('p-value:{}'.format(pvalue))\n",
    "\n",
    "#h0: Não há diferença na altura média\n",
    "#h1: Há diferença na altura média\n",
    "\n",
    "alpha = 0.05\n",
    "if pvalue < alpha:\n",
    "    print('Rejeito a hipotese nula')\n",
    "else:\n",
    "    print('Falha em rejeitar a hipotese nula(Aceita a hipotese nula)') "
   ]
  },
  {
   "cell_type": "code",
   "execution_count": 86,
   "id": "6bd55ab8",
   "metadata": {
    "ExecuteTime": {
     "end_time": "2022-07-17T22:16:12.524427Z",
     "start_time": "2022-07-17T22:16:12.349989Z"
    },
    "hidden": true
   },
   "outputs": [
    {
     "name": "stdout",
     "output_type": "stream",
     "text": [
      "Multiple Comparison of Means - Tukey HSD, FWER=0.05\n",
      "===================================================\n",
      "group1 group2 meandiff p-adj   lower  upper  reject\n",
      "---------------------------------------------------\n",
      "     A      B     15.4 0.0251   1.694 29.106   True\n",
      "     A      C      1.6 0.9867 -12.106 15.306  False\n",
      "     A      D     30.4 0.0001  16.694 44.106   True\n",
      "     B      C    -13.8 0.0482 -27.506 -0.094   True\n",
      "     B      D     15.0 0.0296   1.294 28.706   True\n",
      "     C      D     28.8 0.0001  15.094 42.506   True\n",
      "---------------------------------------------------\n"
     ]
    }
   ],
   "source": [
    "tukey = pairwise_tukeyhsd(endog= df_melt['value'],groups=df_melt['treatment'],alpha=0.05)\n",
    "print(tukey)\n",
    "\n",
    "# Não há evidencia suficiente para dizer que a diferença significativa na altura entre A e C "
   ]
  },
  {
   "cell_type": "code",
   "execution_count": null,
   "id": "7e82be82",
   "metadata": {
    "hidden": true
   },
   "outputs": [],
   "source": []
  },
  {
   "cell_type": "code",
   "execution_count": null,
   "id": "6ca8e544",
   "metadata": {
    "hidden": true
   },
   "outputs": [],
   "source": []
  },
  {
   "cell_type": "code",
   "execution_count": null,
   "id": "f0503fc6",
   "metadata": {
    "hidden": true
   },
   "outputs": [],
   "source": []
  },
  {
   "cell_type": "code",
   "execution_count": null,
   "id": "4130b557",
   "metadata": {
    "hidden": true
   },
   "outputs": [],
   "source": []
  },
  {
   "cell_type": "code",
   "execution_count": null,
   "id": "5eb38d5f",
   "metadata": {
    "hidden": true
   },
   "outputs": [],
   "source": []
  },
  {
   "cell_type": "code",
   "execution_count": null,
   "id": "f6531d95",
   "metadata": {
    "hidden": true
   },
   "outputs": [],
   "source": []
  },
  {
   "cell_type": "code",
   "execution_count": null,
   "id": "d7ed2256",
   "metadata": {
    "hidden": true
   },
   "outputs": [],
   "source": []
  },
  {
   "cell_type": "code",
   "execution_count": null,
   "id": "41a5b975",
   "metadata": {
    "hidden": true
   },
   "outputs": [],
   "source": []
  },
  {
   "cell_type": "code",
   "execution_count": null,
   "id": "60b65ea8",
   "metadata": {
    "hidden": true
   },
   "outputs": [],
   "source": []
  }
 ],
 "metadata": {
  "kernelspec": {
   "display_name": "Python 3 (ipykernel)",
   "language": "python",
   "name": "python3"
  },
  "language_info": {
   "codemirror_mode": {
    "name": "ipython",
    "version": 3
   },
   "file_extension": ".py",
   "mimetype": "text/x-python",
   "name": "python",
   "nbconvert_exporter": "python",
   "pygments_lexer": "ipython3",
   "version": "3.8.1"
  },
  "varInspector": {
   "cols": {
    "lenName": 16,
    "lenType": 16,
    "lenVar": 40
   },
   "kernels_config": {
    "python": {
     "delete_cmd_postfix": "",
     "delete_cmd_prefix": "del ",
     "library": "var_list.py",
     "varRefreshCmd": "print(var_dic_list())"
    },
    "r": {
     "delete_cmd_postfix": ") ",
     "delete_cmd_prefix": "rm(",
     "library": "var_list.r",
     "varRefreshCmd": "cat(var_dic_list()) "
    }
   },
   "types_to_exclude": [
    "module",
    "function",
    "builtin_function_or_method",
    "instance",
    "_Feature"
   ],
   "window_display": false
  }
 },
 "nbformat": 4,
 "nbformat_minor": 5
}
