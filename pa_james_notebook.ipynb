{
 "cells": [
  {
   "cell_type": "markdown",
   "id": "3f57a572",
   "metadata": {},
   "source": [
    "# AB Test Course - PA James "
   ]
  },
  {
   "cell_type": "markdown",
   "id": "7ec818d5",
   "metadata": {},
   "source": [
    "## 0.1 Imports"
   ]
  },
  {
   "cell_type": "code",
   "execution_count": 65,
   "id": "c3af0b90",
   "metadata": {
    "ExecuteTime": {
     "end_time": "2022-05-22T17:03:23.596263Z",
     "start_time": "2022-05-22T17:03:23.590757Z"
    }
   },
   "outputs": [],
   "source": [
    "import pandas as pd\n",
    "import math\n",
    "from statsmodels.stats import api as sms\n",
    "import numpy as np"
   ]
  },
  {
   "cell_type": "markdown",
   "id": "c90f0e6c",
   "metadata": {},
   "source": [
    "# 1.0 Load data"
   ]
  },
  {
   "cell_type": "code",
   "execution_count": 58,
   "id": "3be88c6c",
   "metadata": {
    "ExecuteTime": {
     "end_time": "2022-05-22T17:01:58.925716Z",
     "start_time": "2022-05-22T17:01:58.686952Z"
    }
   },
   "outputs": [],
   "source": [
    "df_raw = pd.read_csv('../datasets/ab_data.csv')"
   ]
  },
  {
   "cell_type": "code",
   "execution_count": 59,
   "id": "f6153fa2",
   "metadata": {
    "ExecuteTime": {
     "end_time": "2022-05-22T17:01:59.054378Z",
     "start_time": "2022-05-22T17:01:59.042649Z"
    }
   },
   "outputs": [
    {
     "data": {
      "text/html": [
       "<div>\n",
       "<style scoped>\n",
       "    .dataframe tbody tr th:only-of-type {\n",
       "        vertical-align: middle;\n",
       "    }\n",
       "\n",
       "    .dataframe tbody tr th {\n",
       "        vertical-align: top;\n",
       "    }\n",
       "\n",
       "    .dataframe thead th {\n",
       "        text-align: right;\n",
       "    }\n",
       "</style>\n",
       "<table border=\"1\" class=\"dataframe\">\n",
       "  <thead>\n",
       "    <tr style=\"text-align: right;\">\n",
       "      <th></th>\n",
       "      <th>user_id</th>\n",
       "      <th>timestamp</th>\n",
       "      <th>group</th>\n",
       "      <th>landing_page</th>\n",
       "      <th>converted</th>\n",
       "    </tr>\n",
       "  </thead>\n",
       "  <tbody>\n",
       "    <tr>\n",
       "      <th>0</th>\n",
       "      <td>851104</td>\n",
       "      <td>2017-01-21 22:11:48.556739</td>\n",
       "      <td>control</td>\n",
       "      <td>old_page</td>\n",
       "      <td>0</td>\n",
       "    </tr>\n",
       "    <tr>\n",
       "      <th>1</th>\n",
       "      <td>804228</td>\n",
       "      <td>2017-01-12 08:01:45.159739</td>\n",
       "      <td>control</td>\n",
       "      <td>old_page</td>\n",
       "      <td>0</td>\n",
       "    </tr>\n",
       "    <tr>\n",
       "      <th>2</th>\n",
       "      <td>661590</td>\n",
       "      <td>2017-01-11 16:55:06.154213</td>\n",
       "      <td>treatment</td>\n",
       "      <td>new_page</td>\n",
       "      <td>0</td>\n",
       "    </tr>\n",
       "    <tr>\n",
       "      <th>3</th>\n",
       "      <td>853541</td>\n",
       "      <td>2017-01-08 18:28:03.143765</td>\n",
       "      <td>treatment</td>\n",
       "      <td>new_page</td>\n",
       "      <td>0</td>\n",
       "    </tr>\n",
       "    <tr>\n",
       "      <th>4</th>\n",
       "      <td>864975</td>\n",
       "      <td>2017-01-21 01:52:26.210827</td>\n",
       "      <td>control</td>\n",
       "      <td>old_page</td>\n",
       "      <td>1</td>\n",
       "    </tr>\n",
       "  </tbody>\n",
       "</table>\n",
       "</div>"
      ],
      "text/plain": [
       "   user_id                   timestamp      group landing_page  converted\n",
       "0   851104  2017-01-21 22:11:48.556739    control     old_page          0\n",
       "1   804228  2017-01-12 08:01:45.159739    control     old_page          0\n",
       "2   661590  2017-01-11 16:55:06.154213  treatment     new_page          0\n",
       "3   853541  2017-01-08 18:28:03.143765  treatment     new_page          0\n",
       "4   864975  2017-01-21 01:52:26.210827    control     old_page          1"
      ]
     },
     "execution_count": 59,
     "metadata": {},
     "output_type": "execute_result"
    }
   ],
   "source": [
    "df_raw.head()"
   ]
  },
  {
   "cell_type": "markdown",
   "id": "a6b15851",
   "metadata": {},
   "source": [
    "# 2.0 Design de Experimentos"
   ]
  },
  {
   "cell_type": "markdown",
   "id": "1fc7dba6",
   "metadata": {},
   "source": [
    "## 2.1 Formulação da Hipóteses"
   ]
  },
  {
   "cell_type": "markdown",
   "id": "1185b29d",
   "metadata": {},
   "source": [
    "## 2.2 Parâmetros do Experimento"
   ]
  },
  {
   "cell_type": "code",
   "execution_count": 63,
   "id": "17d16cf1",
   "metadata": {
    "ExecuteTime": {
     "end_time": "2022-05-22T17:02:54.123567Z",
     "start_time": "2022-05-22T17:02:54.111940Z"
    }
   },
   "outputs": [],
   "source": [
    "#Nivel de confiança\n",
    "confidence_level = 0.95\n",
    "\n",
    "#Nivel de significancia \n",
    "significance_level = 0.05\n",
    "\n",
    "\n",
    "p1=0.13\n",
    "p2=0.15\n",
    "\n",
    "# tamanho do efeito\n",
    "effect_size = sms.proportion_effectsize(p1,p2)\n",
    "\n",
    "#Power estatistico\n",
    "power = 0.8\n"
   ]
  },
  {
   "cell_type": "code",
   "execution_count": 68,
   "id": "17cca153",
   "metadata": {
    "ExecuteTime": {
     "end_time": "2022-05-22T17:04:58.083711Z",
     "start_time": "2022-05-22T17:04:58.062499Z"
    }
   },
   "outputs": [],
   "source": [
    "#sample size\n",
    "sample_n = sms.NormalIndPower().solve_power(\n",
    "    effect_size, \n",
    "    power=power,\n",
    "    alpha=significance_level)\n",
    "\n",
    "sample_n = math.ceil(sample_n)\n",
    "sample_n"
   ]
  },
  {
   "cell_type": "code",
   "execution_count": 70,
   "id": "cb72fc31",
   "metadata": {
    "ExecuteTime": {
     "end_time": "2022-05-22T17:05:54.593327Z",
     "start_time": "2022-05-22T17:05:54.582099Z"
    }
   },
   "outputs": [
    {
     "name": "stdout",
     "output_type": "stream",
     "text": [
      "O tamanho total da amostra 9440\n",
      "O tamanho da amostra do grupo controle é de 4720\n",
      "O tamanho da amostra do grupo de tratamento é de 4720\n"
     ]
    }
   ],
   "source": [
    "print('O tamanho total da amostra {}'.format(2*sample_n))\n",
    "print('O tamanho da amostra do grupo controle é de {}'.format(sample_n))\n",
    "print('O tamanho da amostra do grupo de tratamento é de {}'.format(sample_n))\n"
   ]
  },
  {
   "cell_type": "code",
   "execution_count": 77,
   "id": "37dd8c2d",
   "metadata": {
    "ExecuteTime": {
     "end_time": "2022-05-22T17:32:40.208749Z",
     "start_time": "2022-05-22T17:32:40.200540Z"
    }
   },
   "outputs": [
    {
     "name": "stdout",
     "output_type": "stream",
     "text": [
      "o numero de email para enviar:47200\n",
      "o numero total da base de emial para enviar:94400\n"
     ]
    }
   ],
   "source": [
    "conversion_rate = 0.10 #quantas vão abrir/responder\n",
    "x= sample_n / conversion_rate\n",
    "print('o numero de email para enviar:{}'.format(int(x)))\n",
    "print('o numero total da base de emial para enviar:{}'.format(2*int(x)))\n"
   ]
  },
  {
   "cell_type": "code",
   "execution_count": null,
   "id": "3679fd40",
   "metadata": {},
   "outputs": [],
   "source": [
    "#Total de pessoas para o estudo com esse parametos são muito alto.\n",
    "#Podemos aumentar as porcentagem de converções o que não seria ideal, pois uma diferença da p de tratmento deve ser o menor possivel, assim não tendo diferença na aleatoriedade.\n"
   ]
  },
  {
   "cell_type": "code",
   "execution_count": null,
   "id": "5d878c54",
   "metadata": {},
   "outputs": [],
   "source": []
  }
 ],
 "metadata": {
  "kernelspec": {
   "display_name": "Python 3 (ipykernel)",
   "language": "python",
   "name": "python3"
  },
  "language_info": {
   "codemirror_mode": {
    "name": "ipython",
    "version": 3
   },
   "file_extension": ".py",
   "mimetype": "text/x-python",
   "name": "python",
   "nbconvert_exporter": "python",
   "pygments_lexer": "ipython3",
   "version": "3.8.1"
  },
  "varInspector": {
   "cols": {
    "lenName": 16,
    "lenType": 16,
    "lenVar": 40
   },
   "kernels_config": {
    "python": {
     "delete_cmd_postfix": "",
     "delete_cmd_prefix": "del ",
     "library": "var_list.py",
     "varRefreshCmd": "print(var_dic_list())"
    },
    "r": {
     "delete_cmd_postfix": ") ",
     "delete_cmd_prefix": "rm(",
     "library": "var_list.r",
     "varRefreshCmd": "cat(var_dic_list()) "
    }
   },
   "types_to_exclude": [
    "module",
    "function",
    "builtin_function_or_method",
    "instance",
    "_Feature"
   ],
   "window_display": false
  }
 },
 "nbformat": 4,
 "nbformat_minor": 5
}
